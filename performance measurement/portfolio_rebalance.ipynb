{
 "cells": [
  {
   "cell_type": "code",
   "execution_count": 1,
   "metadata": {},
   "outputs": [],
   "source": [
    "import numpy as np\n",
    "import pandas as pd\n",
    "import yfinance as yf\n",
    "import datetime as dt\n",
    "import copy\n",
    "import matplotlib.pyplot as plt\n",
    "\n",
    "\n"
   ]
  },
  {
   "cell_type": "code",
   "execution_count": 2,
   "metadata": {},
   "outputs": [],
   "source": [
    "def CAGR(DF):\n",
    "    \"function to calculate the Cumulative Annual Growth Rate of a trading strategy\"\n",
    "    df = DF.copy()\n",
    "    df[\"cum_return\"] = (1 + df[\"mon_ret\"]).cumprod()\n",
    "    n = len(df)/12\n",
    "    CAGR = (df[\"cum_return\"].tolist()[-1])**(1/n) - 1\n",
    "    return CAGR\n",
    "\n",
    "def volatility(DF):\n",
    "    \"function to calculate annualized volatility of a trading strategy\"\n",
    "    df = DF.copy()\n",
    "    vol = df[\"mon_ret\"].std() * np.sqrt(12)\n",
    "    return vol\n",
    "\n",
    "def sharpe(DF,rf):\n",
    "    \"function to calculate sharpe ratio ; rf is the risk free rate\"\n",
    "    df = DF.copy()\n",
    "    sr = (CAGR(df) - rf)/volatility(df)\n",
    "    return sr\n",
    "    \n",
    "\n",
    "def max_dd(DF):\n",
    "    \"function to calculate max drawdown\"\n",
    "    df = DF.copy()\n",
    "    df[\"cum_return\"] = (1 + df[\"mon_ret\"]).cumprod()\n",
    "    df[\"cum_roll_max\"] = df[\"cum_return\"].cummax()\n",
    "    df[\"drawdown\"] = df[\"cum_roll_max\"] - df[\"cum_return\"]\n",
    "    df[\"drawdown_pct\"] = df[\"drawdown\"]/df[\"cum_roll_max\"]\n",
    "    max_dd = df[\"drawdown_pct\"].max()\n",
    "    return max_dd"
   ]
  },
  {
   "cell_type": "code",
   "execution_count": 3,
   "metadata": {},
   "outputs": [],
   "source": [
    "tickers = ['688232.SS','002115.SS','300557.SZ','300487.SZ','688212.SS','600600.SS','603380.SS']"
   ]
  },
  {
   "cell_type": "code",
   "execution_count": 26,
   "metadata": {},
   "outputs": [],
   "source": [
    "\n",
    "ohlc_mon = {} # directory with ohlc value for each stock            \n",
    "start = dt.datetime.today()-dt.timedelta(365)\n",
    "end = dt.datetime.today()"
   ]
  },
  {
   "cell_type": "code",
   "execution_count": 27,
   "metadata": {},
   "outputs": [
    {
     "name": "stdout",
     "output_type": "stream",
     "text": [
      "[*********************100%***********************]  1 of 1 completed\n",
      "[*********************100%***********************]  1 of 1 completed\n",
      "[*********************100%***********************]  1 of 1 completed\n",
      "[*********************100%***********************]  1 of 1 completed\n"
     ]
    }
   ],
   "source": [
    "for ticker in tickers:\n",
    "    ohlc_mon[ticker] = yf.download(ticker,start,end,interval='1mo')\n",
    "    ohlc_mon[ticker].dropna(inplace=True,how=\"all\")\n",
    "    \n",
    "    if len(ohlc_mon[ticker])<10: #removing tickers that have too few data points\n",
    "        del ohlc_mon[ticker]"
   ]
  },
  {
   "cell_type": "code",
   "execution_count": 28,
   "metadata": {},
   "outputs": [
    {
     "data": {
      "text/plain": [
       "dict_keys(['300557.SZ', '300487.SZ', '600600.SS', '603380.SS'])"
      ]
     },
     "execution_count": 28,
     "metadata": {},
     "output_type": "execute_result"
    }
   ],
   "source": [
    "tickers=ohlc_mon.keys()\n",
    "tickers"
   ]
  },
  {
   "cell_type": "code",
   "execution_count": 29,
   "metadata": {},
   "outputs": [
    {
     "name": "stdout",
     "output_type": "stream",
     "text": [
      "calculating monthly return for  300557.SZ\n",
      "calculating monthly return for  300487.SZ\n",
      "calculating monthly return for  600600.SS\n",
      "calculating monthly return for  603380.SS\n"
     ]
    }
   ],
   "source": [
    "#monthly return\n",
    "ohlc_dict = copy.deepcopy(ohlc_mon)\n",
    "return_df = pd.DataFrame()\n",
    "for ticker in tickers:\n",
    "    print(\"calculating monthly return for \",ticker)\n",
    "    ohlc_dict[ticker][\"mon_ret\"] = ohlc_dict[ticker][\"Adj Close\"].pct_change()\n",
    "    return_df[ticker] = ohlc_dict[ticker][\"mon_ret\"]\n",
    "return_df.dropna(inplace=True)"
   ]
  },
  {
   "cell_type": "code",
   "execution_count": 30,
   "metadata": {},
   "outputs": [
    {
     "data": {
      "text/html": [
       "<div>\n",
       "<style scoped>\n",
       "    .dataframe tbody tr th:only-of-type {\n",
       "        vertical-align: middle;\n",
       "    }\n",
       "\n",
       "    .dataframe tbody tr th {\n",
       "        vertical-align: top;\n",
       "    }\n",
       "\n",
       "    .dataframe thead th {\n",
       "        text-align: right;\n",
       "    }\n",
       "</style>\n",
       "<table border=\"1\" class=\"dataframe\">\n",
       "  <thead>\n",
       "    <tr style=\"text-align: right;\">\n",
       "      <th></th>\n",
       "      <th>300557.SZ</th>\n",
       "      <th>300487.SZ</th>\n",
       "      <th>600600.SS</th>\n",
       "      <th>603380.SS</th>\n",
       "    </tr>\n",
       "    <tr>\n",
       "      <th>Date</th>\n",
       "      <th></th>\n",
       "      <th></th>\n",
       "      <th></th>\n",
       "      <th></th>\n",
       "    </tr>\n",
       "  </thead>\n",
       "  <tbody>\n",
       "    <tr>\n",
       "      <th>2021-02-01</th>\n",
       "      <td>0.008647</td>\n",
       "      <td>-0.030303</td>\n",
       "      <td>-0.103165</td>\n",
       "      <td>0.020285</td>\n",
       "    </tr>\n",
       "    <tr>\n",
       "      <th>2021-03-01</th>\n",
       "      <td>0.148307</td>\n",
       "      <td>0.000000</td>\n",
       "      <td>0.062916</td>\n",
       "      <td>0.200967</td>\n",
       "    </tr>\n",
       "    <tr>\n",
       "      <th>2021-04-01</th>\n",
       "      <td>-0.093692</td>\n",
       "      <td>0.197000</td>\n",
       "      <td>0.075260</td>\n",
       "      <td>-0.032662</td>\n",
       "    </tr>\n",
       "    <tr>\n",
       "      <th>2021-05-01</th>\n",
       "      <td>0.023064</td>\n",
       "      <td>0.512114</td>\n",
       "      <td>0.153060</td>\n",
       "      <td>0.066142</td>\n",
       "    </tr>\n",
       "    <tr>\n",
       "      <th>2021-06-01</th>\n",
       "      <td>0.064815</td>\n",
       "      <td>0.168508</td>\n",
       "      <td>0.102058</td>\n",
       "      <td>0.042083</td>\n",
       "    </tr>\n",
       "    <tr>\n",
       "      <th>2021-07-01</th>\n",
       "      <td>0.066163</td>\n",
       "      <td>0.057194</td>\n",
       "      <td>-0.305837</td>\n",
       "      <td>0.153206</td>\n",
       "    </tr>\n",
       "    <tr>\n",
       "      <th>2021-08-01</th>\n",
       "      <td>0.002482</td>\n",
       "      <td>0.098419</td>\n",
       "      <td>0.075237</td>\n",
       "      <td>0.071061</td>\n",
       "    </tr>\n",
       "    <tr>\n",
       "      <th>2021-09-01</th>\n",
       "      <td>-0.085957</td>\n",
       "      <td>-0.251046</td>\n",
       "      <td>-0.058982</td>\n",
       "      <td>0.008877</td>\n",
       "    </tr>\n",
       "    <tr>\n",
       "      <th>2021-10-01</th>\n",
       "      <td>-0.041796</td>\n",
       "      <td>0.068402</td>\n",
       "      <td>0.294921</td>\n",
       "      <td>-0.015567</td>\n",
       "    </tr>\n",
       "    <tr>\n",
       "      <th>2021-11-01</th>\n",
       "      <td>0.159128</td>\n",
       "      <td>0.195383</td>\n",
       "      <td>-0.052839</td>\n",
       "      <td>0.372637</td>\n",
       "    </tr>\n",
       "    <tr>\n",
       "      <th>2021-12-01</th>\n",
       "      <td>0.006620</td>\n",
       "      <td>-0.083645</td>\n",
       "      <td>0.034221</td>\n",
       "      <td>-0.080641</td>\n",
       "    </tr>\n",
       "    <tr>\n",
       "      <th>2021-12-28</th>\n",
       "      <td>0.025614</td>\n",
       "      <td>0.089766</td>\n",
       "      <td>0.018111</td>\n",
       "      <td>0.081994</td>\n",
       "    </tr>\n",
       "  </tbody>\n",
       "</table>\n",
       "</div>"
      ],
      "text/plain": [
       "            300557.SZ  300487.SZ  600600.SS  603380.SS\n",
       "Date                                                  \n",
       "2021-02-01   0.008647  -0.030303  -0.103165   0.020285\n",
       "2021-03-01   0.148307   0.000000   0.062916   0.200967\n",
       "2021-04-01  -0.093692   0.197000   0.075260  -0.032662\n",
       "2021-05-01   0.023064   0.512114   0.153060   0.066142\n",
       "2021-06-01   0.064815   0.168508   0.102058   0.042083\n",
       "2021-07-01   0.066163   0.057194  -0.305837   0.153206\n",
       "2021-08-01   0.002482   0.098419   0.075237   0.071061\n",
       "2021-09-01  -0.085957  -0.251046  -0.058982   0.008877\n",
       "2021-10-01  -0.041796   0.068402   0.294921  -0.015567\n",
       "2021-11-01   0.159128   0.195383  -0.052839   0.372637\n",
       "2021-12-01   0.006620  -0.083645   0.034221  -0.080641\n",
       "2021-12-28   0.025614   0.089766   0.018111   0.081994"
      ]
     },
     "execution_count": 30,
     "metadata": {},
     "output_type": "execute_result"
    }
   ],
   "source": [
    "return_df"
   ]
  },
  {
   "cell_type": "code",
   "execution_count": 31,
   "metadata": {},
   "outputs": [],
   "source": [
    "def pflio(DF,m,x):\n",
    "    \"\"\"Returns cumulative portfolio return\n",
    "    DF = dataframe with monthly return info for all stocks\n",
    "    m = number of stock in the portfolio\n",
    "    x = number of underperforming stocks to be removed from portfolio monthly\"\"\"\n",
    "    df = DF.copy()\n",
    "    portfolio = []\n",
    "    monthly_ret = [0]\n",
    "    for i in range(len(df)):\n",
    "        if len(portfolio) > 0:\n",
    "            monthly_ret.append(df[portfolio].iloc[i,:].mean())\n",
    "            bad_stocks = df[portfolio].iloc[i,:].sort_values(ascending=True)[:x].index.values.tolist()\n",
    "            portfolio = [t for t in portfolio if t not in bad_stocks]\n",
    "        fill = m - len(portfolio)\n",
    "        new_picks = df.iloc[i,:].sort_values(ascending=False)[:fill].index.values.tolist()\n",
    "        portfolio = portfolio + new_picks\n",
    "        print(portfolio)\n",
    "    monthly_ret_df = pd.DataFrame(np.array(monthly_ret),columns=[\"mon_ret\"])\n",
    "    return monthly_ret_df"
   ]
  },
  {
   "cell_type": "code",
   "execution_count": 32,
   "metadata": {},
   "outputs": [
    {
     "name": "stdout",
     "output_type": "stream",
     "text": [
      "['603380.SS', '300557.SZ', '300487.SZ']\n",
      "['603380.SS', '300557.SZ', '603380.SS']\n",
      "['603380.SS', '603380.SS', '300487.SZ']\n",
      "['300487.SZ', '300487.SZ', '600600.SS']\n",
      "['300487.SZ', '300487.SZ', '300487.SZ']\n",
      "['603380.SS', '300557.SZ', '300487.SZ']\n",
      "['603380.SS', '300487.SZ', '300487.SZ']\n",
      "['603380.SS', '603380.SS', '600600.SS']\n",
      "['600600.SS', '600600.SS', '300487.SZ']\n",
      "['300487.SZ', '603380.SS', '300487.SZ']\n",
      "['603380.SS', '600600.SS', '300557.SZ']\n",
      "['603380.SS', '300557.SZ', '300487.SZ']\n",
      "['603380.SS', '300557.SZ', '300487.SZ']\n",
      "['603380.SS', '300557.SZ', '603380.SS']\n",
      "['603380.SS', '603380.SS', '300487.SZ']\n",
      "['300487.SZ', '300487.SZ', '600600.SS']\n",
      "['300487.SZ', '300487.SZ', '300487.SZ']\n",
      "['603380.SS', '300557.SZ', '300487.SZ']\n",
      "['603380.SS', '300487.SZ', '300487.SZ']\n",
      "['603380.SS', '603380.SS', '600600.SS']\n",
      "['600600.SS', '600600.SS', '300487.SZ']\n",
      "['300487.SZ', '603380.SS', '300487.SZ']\n",
      "['603380.SS', '600600.SS', '300557.SZ']\n",
      "['603380.SS', '300557.SZ', '300487.SZ']\n",
      "['603380.SS', '300557.SZ', '300487.SZ']\n",
      "['603380.SS', '300557.SZ', '603380.SS']\n",
      "['603380.SS', '603380.SS', '300487.SZ']\n",
      "['300487.SZ', '300487.SZ', '600600.SS']\n",
      "['300487.SZ', '300487.SZ', '300487.SZ']\n",
      "['603380.SS', '300557.SZ', '300487.SZ']\n",
      "['603380.SS', '300487.SZ', '300487.SZ']\n",
      "['603380.SS', '603380.SS', '600600.SS']\n",
      "['600600.SS', '600600.SS', '300487.SZ']\n",
      "['300487.SZ', '603380.SS', '300487.SZ']\n",
      "['603380.SS', '600600.SS', '300557.SZ']\n",
      "['603380.SS', '300557.SZ', '300487.SZ']\n"
     ]
    },
    {
     "data": {
      "text/plain": [
       "0.1644051126167106"
      ]
     },
     "execution_count": 32,
     "metadata": {},
     "output_type": "execute_result"
    }
   ],
   "source": [
    "CAGR(pflio(return_df,3,1))\n",
    "sharpe(pflio(return_df,3,1),0.025)\n",
    "max_dd(pflio(return_df,3,1)) "
   ]
  },
  {
   "cell_type": "code",
   "execution_count": 33,
   "metadata": {},
   "outputs": [
    {
     "name": "stdout",
     "output_type": "stream",
     "text": [
      "['603380.SS', '300557.SZ', '300487.SZ']\n",
      "['603380.SS', '300557.SZ', '603380.SS']\n",
      "['603380.SS', '603380.SS', '300487.SZ']\n",
      "['300487.SZ', '300487.SZ', '600600.SS']\n",
      "['300487.SZ', '300487.SZ', '300487.SZ']\n",
      "['603380.SS', '300557.SZ', '300487.SZ']\n",
      "['603380.SS', '300487.SZ', '300487.SZ']\n",
      "['603380.SS', '603380.SS', '600600.SS']\n",
      "['600600.SS', '600600.SS', '300487.SZ']\n",
      "['300487.SZ', '603380.SS', '300487.SZ']\n",
      "['603380.SS', '600600.SS', '300557.SZ']\n",
      "['603380.SS', '300557.SZ', '300487.SZ']\n"
     ]
    },
    {
     "data": {
      "text/plain": [
       "<matplotlib.legend.Legend at 0x1700b234610>"
      ]
     },
     "execution_count": 33,
     "metadata": {},
     "output_type": "execute_result"
    },
    {
     "data": {
      "image/png": "[encoded data removed]",
      "text/plain": [
       "<Figure size 432x288 with 1 Axes>"
      ]
     },
     "metadata": {
      "needs_background": "light"
     },
     "output_type": "display_data"
    }
   ],
   "source": [
    "fig, ax = plt.subplots()\n",
    "plt.plot((1+pflio(return_df,3,1)).cumprod());\n",
    "plt.ylabel(\"cumulative return\")\n",
    "plt.xlabel(\"months\")\n",
    "ax.legend([\"Strategy Return\"])"
   ]
  },
  {
   "cell_type": "code",
   "execution_count": null,
   "metadata": {},
   "outputs": [],
   "source": []
  },
  {
   "cell_type": "code",
   "execution_count": null,
   "metadata": {},
   "outputs": [],
   "source": []
  }
 ],
 "metadata": {
  "kernelspec": {
   "display_name": "Python 3",
   "language": "python",
   "name": "python3"
  },
  "language_info": {
   "codemirror_mode": {
    "name": "ipython",
    "version": 3
   },
   "file_extension": ".py",
   "mimetype": "text/x-python",
   "name": "python",
   "nbconvert_exporter": "python",
   "pygments_lexer": "ipython3",
   "version": "3.8.12"
  }
 },
 "nbformat": 4,
 "nbformat_minor": 4
}
