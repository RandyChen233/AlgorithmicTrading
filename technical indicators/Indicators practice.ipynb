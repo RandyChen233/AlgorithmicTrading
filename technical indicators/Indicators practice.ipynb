{
 "cells": [
  {
   "cell_type": "code",
   "execution_count": 31,
   "metadata": {},
   "outputs": [],
   "source": [
    "import datetime as dt\n",
    "import yfinance as yf\n",
    "import pandas as pd\n",
    "import seaborn as sns\n",
    "import matplotlib.pyplot as plt\n",
    "import numpy as np"
   ]
  },
  {
   "cell_type": "markdown",
   "metadata": {},
   "source": [
    "### MACD-moving average convergence divergence"
   ]
  },
  {
   "cell_type": "code",
   "execution_count": 8,
   "metadata": {},
   "outputs": [],
   "source": [
    "tickers = ['600600.SS','600132.SS']\n",
    "all_data = {}"
   ]
  },
  {
   "cell_type": "code",
   "execution_count": 9,
   "metadata": {},
   "outputs": [
    {
     "name": "stdout",
     "output_type": "stream",
     "text": [
      "[*********************100%***********************]  1 of 1 completed\n",
      "[*********************100%***********************]  1 of 1 completed\n"
     ]
    }
   ],
   "source": [
    "for ticker in tickers:\n",
    "    temp = yf.download(ticker,period='6mo',interval = '1d')\n",
    "    temp.dropna(how='any',inplace=True)\n",
    "    all_data[ticker]=temp"
   ]
  },
  {
   "cell_type": "code",
   "execution_count": 10,
   "metadata": {},
   "outputs": [
    {
     "data": {
      "text/plain": [
       "{'600600.SS':                   Open        High         Low       Close   Adj Close  \\\n",
       " Date                                                                     \n",
       " 2021-06-24  107.000000  107.680000  104.320000  105.300003  104.394333   \n",
       " 2021-06-25  105.190002  110.849998  104.480003  110.680000  109.728050   \n",
       " 2021-06-28  109.830002  113.879997  108.690002  112.250000  111.284554   \n",
       " 2021-06-29  112.680000  116.680000  111.510002  115.809998  114.813927   \n",
       " 2021-06-30  115.809998  118.110001  113.160004  115.650002  114.655312   \n",
       " ...                ...         ...         ...         ...         ...   \n",
       " 2021-12-20   99.629997  100.269997   98.720001   99.050003   99.050003   \n",
       " 2021-12-21   99.300003  103.260002   99.000000  102.269997  102.269997   \n",
       " 2021-12-22  102.269997  103.589996  101.320000  102.050003  102.050003   \n",
       " 2021-12-23  102.000000  104.199997   99.800003  101.440002  101.440002   \n",
       " 2021-12-24  102.430000  105.949997  101.309998  105.089996  105.089996   \n",
       " \n",
       "              Volume  \n",
       " Date                 \n",
       " 2021-06-24  4894396  \n",
       " 2021-06-25  7720907  \n",
       " 2021-06-28  6853740  \n",
       " 2021-06-29  7529517  \n",
       " 2021-06-30  4936385  \n",
       " ...             ...  \n",
       " 2021-12-20  2503213  \n",
       " 2021-12-21  4266396  \n",
       " 2021-12-22  2222692  \n",
       " 2021-12-23  3565783  \n",
       " 2021-12-24  4503099  \n",
       " \n",
       " [125 rows x 6 columns],\n",
       " '600132.SS':                   Open        High         Low       Close   Adj Close  \\\n",
       " Date                                                                     \n",
       " 2021-06-24  180.179993  183.100006  177.300003  180.500000  180.500000   \n",
       " 2021-06-25  180.270004  189.779999  178.880005  188.100006  188.100006   \n",
       " 2021-06-28  188.000000  197.699997  186.100006  194.710007  194.710007   \n",
       " 2021-06-29  193.830002  201.000000  191.259995  198.610001  198.610001   \n",
       " 2021-06-30  195.809998  199.500000  194.279999  197.949997  197.949997   \n",
       " ...                ...         ...         ...         ...         ...   \n",
       " 2021-12-20  153.000000  153.300003  149.100006  150.369995  150.369995   \n",
       " 2021-12-21  153.729996  154.149994  150.000000  154.020004  154.020004   \n",
       " 2021-12-22  153.000000  160.000000  152.000000  157.720001  157.720001   \n",
       " 2021-12-23  158.000000  158.899994  153.210007  156.460007  156.460007   \n",
       " 2021-12-24  156.000000  160.889999  155.339996  157.059998  157.059998   \n",
       " \n",
       "              Volume  \n",
       " Date                 \n",
       " 2021-06-24  3089070  \n",
       " 2021-06-25  3753865  \n",
       " 2021-06-28  4323212  \n",
       " 2021-06-29  3711815  \n",
       " 2021-06-30  1972894  \n",
       " ...             ...  \n",
       " 2021-12-20  2283670  \n",
       " 2021-12-21  2022443  \n",
       " 2021-12-22  2374336  \n",
       " 2021-12-23  2510830  \n",
       " 2021-12-24  1860000  \n",
       " \n",
       " [125 rows x 6 columns]}"
      ]
     },
     "execution_count": 10,
     "metadata": {},
     "output_type": "execute_result"
    }
   ],
   "source": [
    "all_data"
   ]
  },
  {
   "cell_type": "code",
   "execution_count": 14,
   "metadata": {},
   "outputs": [],
   "source": [
    "def MACD(DF,a=12,b=26,c=9):\n",
    "    df = DF.copy()\n",
    "    df['ma_fast'] = df['Adj Close'].ewm(span=a,min_periods = a).mean()\n",
    "    df['ma_slow'] = df['Adj Close'].ewm(span=b,min_periods = b).mean()\n",
    "    df['MACD'] = df['ma_fast']-df['ma_slow']\n",
    "    df['signal'] = df['MACD'].ewm(span=c,min_periods = c).mean()\n",
    "    \n",
    "    return df.loc[:,['MACD','signal']]"
   ]
  },
  {
   "cell_type": "code",
   "execution_count": 15,
   "metadata": {},
   "outputs": [],
   "source": [
    "for ticker in all_data:\n",
    "    all_data[ticker][['MACD','signal']] = MACD(all_data[ticker])"
   ]
  },
  {
   "cell_type": "markdown",
   "metadata": {},
   "source": [
    "### ATR"
   ]
  },
  {
   "cell_type": "code",
   "execution_count": 20,
   "metadata": {},
   "outputs": [],
   "source": [
    "def ATR(DF,n=14):\n",
    "    df = DF.copy()\n",
    "    df['H-L'] = df['High']-df['Low'] #high minus low\n",
    "    df['H-PC'] = df['High']-df['Adj Close'].shift(1) #high minus previous close\n",
    "    df['L-PC'] = df['Low']-df['Adj Close'].shift(1)  #low minus previous close\n",
    "    df['TR'] = df[['H-L','H-PC','L-PC']].max(axis=1,skipna=False)\n",
    "    df['ATR'] = df['TR'].ewm(span=n,min_periods=n).mean()\n",
    "    \n",
    "    return df['ATR']"
   ]
  },
  {
   "cell_type": "code",
   "execution_count": 21,
   "metadata": {},
   "outputs": [],
   "source": [
    "for ticker in all_data:\n",
    "    all_data[ticker]['ATR'] = ATR(all_data[ticker])"
   ]
  },
  {
   "cell_type": "markdown",
   "metadata": {},
   "source": [
    "### Bollinger Band"
   ]
  },
  {
   "cell_type": "code",
   "execution_count": 26,
   "metadata": {},
   "outputs": [],
   "source": [
    "def Boll(DF,n=14):\n",
    "    df = DF.copy()\n",
    "    df['MB'] = df['Adj Close'].rolling(n).mean() #simple moving average for the middle band\n",
    "    df['UB'] = df['MB'] + 2*df['Adj Close'].rolling(n).std(ddof=0)\n",
    "    df['LB'] = df['MB'] - 2*df['Adj Close'].rolling(n).std(ddof=0)\n",
    "    df['BB_width'] = df['UB']-df['LB']\n",
    "    \n",
    "    return df[['UB','MB','LB','BB_width']]"
   ]
  },
  {
   "cell_type": "code",
   "execution_count": 28,
   "metadata": {},
   "outputs": [],
   "source": [
    "for ticker in all_data:\n",
    "    all_data[ticker][['UB','MB','LB','BB_width']] = Boll(all_data[ticker],n=20)"
   ]
  },
  {
   "cell_type": "markdown",
   "metadata": {},
   "source": [
    "### RSI"
   ]
  },
  {
   "cell_type": "code",
   "execution_count": 33,
   "metadata": {},
   "outputs": [],
   "source": [
    "def RSI(DF,n=14):\n",
    "    df = DF.copy()\n",
    "    df['change'] = df['Adj Close']-df['Adj Close'].shift(1)\n",
    "    df['gain'] = np.where(df['change']>=0,df['change'],0)\n",
    "    df['loss'] = np.where(df['change']<0,-1*df['change'],0)\n",
    "    df['avg_gain'] = df['gain'].ewm(alpha=1/n,min_periods=n).mean()\n",
    "    df['avg_loss'] = df['loss'].ewm(alpha=1/n,min_periods=n).mean()\n",
    "    df['rs'] = df['avg_gain']/df['avg_loss']\n",
    "    df['rsi'] = 100 - (100 / (1+df['rs']))\n",
    "    \n",
    "    return df['rsi']\n",
    "    "
   ]
  },
  {
   "cell_type": "code",
   "execution_count": 34,
   "metadata": {},
   "outputs": [],
   "source": [
    "for ticker in all_data:\n",
    "    all_data[ticker]['rsi'] = RSI(all_data[ticker],n=14)"
   ]
  },
  {
   "cell_type": "markdown",
   "metadata": {},
   "source": [
    "### Renko"
   ]
  },
  {
   "cell_type": "code",
   "execution_count": 36,
   "metadata": {},
   "outputs": [],
   "source": [
    "import talib\n"
   ]
  },
  {
   "cell_type": "code",
   "execution_count": 42,
   "metadata": {},
   "outputs": [],
   "source": [
    "close = np.random.random(100)\n",
    "output = talib.SMA(close,timeperiod=14)"
   ]
  },
  {
   "cell_type": "code",
   "execution_count": 43,
   "metadata": {},
   "outputs": [
    {
     "name": "stdout",
     "output_type": "stream",
     "text": [
      "Help on function SMA in module talib._ta_lib:\n",
      "\n",
      "SMA(...)\n",
      "    SMA(real[, timeperiod=?])\n",
      "    \n",
      "    Simple Moving Average (Overlap Studies)\n",
      "    \n",
      "    Inputs:\n",
      "        real: (any ndarray)\n",
      "    Parameters:\n",
      "        timeperiod: 30\n",
      "    Outputs:\n",
      "        real\n",
      "\n"
     ]
    }
   ],
   "source": [
    "help(talib.SMA)"
   ]
  },
  {
   "cell_type": "code",
   "execution_count": 44,
   "metadata": {},
   "outputs": [
    {
     "data": {
      "text/plain": [
       "array([       nan,        nan,        nan,        nan,        nan,\n",
       "              nan,        nan,        nan,        nan,        nan,\n",
       "              nan,        nan,        nan, 0.50075669, 0.48481323,\n",
       "       0.53497791, 0.54239246, 0.4970038 , 0.49048098, 0.44881577,\n",
       "       0.41030133, 0.35618315, 0.38592527, 0.4047321 , 0.43663321,\n",
       "       0.47944002, 0.46747315, 0.47185099, 0.51775714, 0.44875315,\n",
       "       0.4625276 , 0.468571  , 0.47595829, 0.52483715, 0.56045103,\n",
       "       0.5867376 , 0.57789898, 0.51262925, 0.4948892 , 0.4589148 ,\n",
       "       0.50802843, 0.49670376, 0.50097391, 0.56359734, 0.56031174,\n",
       "       0.58046685, 0.55739678, 0.5503065 , 0.5749609 , 0.59349928,\n",
       "       0.55673362, 0.59060543, 0.56544618, 0.58700161, 0.54828346,\n",
       "       0.53630145, 0.54928613, 0.53370812, 0.57950781, 0.59342352,\n",
       "       0.5759731 , 0.57190973, 0.53664107, 0.49331234, 0.54222228,\n",
       "       0.57542783, 0.563742  , 0.56486154, 0.57003557, 0.60191213,\n",
       "       0.54858049, 0.53314357, 0.48758624, 0.47222157, 0.50455484,\n",
       "       0.52930314, 0.5359058 , 0.55262013, 0.53891712, 0.51121786,\n",
       "       0.50658327, 0.49893995, 0.48472993, 0.43879698, 0.44126962,\n",
       "       0.42866534, 0.47515389, 0.44709898, 0.40164217, 0.36988233,\n",
       "       0.38423921, 0.37026241, 0.36918779, 0.37949158, 0.3849394 ,\n",
       "       0.39354411, 0.39205873, 0.44811635, 0.48139852, 0.48457366])"
      ]
     },
     "execution_count": 44,
     "metadata": {},
     "output_type": "execute_result"
    }
   ],
   "source": [
    "output"
   ]
  },
  {
   "cell_type": "code",
   "execution_count": null,
   "metadata": {},
   "outputs": [],
   "source": []
  }
 ],
 "metadata": {
  "kernelspec": {
   "display_name": "Python 3",
   "language": "python",
   "name": "python3"
  },
  "language_info": {
   "codemirror_mode": {
    "name": "ipython",
    "version": 3
   },
   "file_extension": ".py",
   "mimetype": "text/x-python",
   "name": "python",
   "nbconvert_exporter": "python",
   "pygments_lexer": "ipython3",
   "version": "3.8.12"
  }
 },
 "nbformat": 4,
 "nbformat_minor": 4
}
